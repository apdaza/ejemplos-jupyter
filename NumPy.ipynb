{
 "cells": [
  {
   "cell_type": "markdown",
   "id": "bde002d0",
   "metadata": {},
   "source": [
    "# Introducción a NumPy\n",
    "\n",
    "__NumPy__ is a _Python library_ for scientific computing. NumPy stands for Numerical Python.\n",
    "\n",
    "- Numpy is a library used specifically for advanced and faster data manipulation in Python. \n",
    "- Numpy allows us to effectively manage and manipulate our datasets with minimal programming.\n",
    "- The main benefit of NumPy is that it allows extremely fast data generation and handling. \n",
    "- NumPy has its own built-in data structure called an array that is similar to the normal Python list, but can store and operate on data much more efficiently."
   ]
  },
  {
   "cell_type": "markdown",
   "id": "15bbf553",
   "metadata": {},
   "source": [
    "Importing the library and checking the numpy version"
   ]
  },
  {
   "cell_type": "code",
   "execution_count": 1,
   "id": "817b39d7",
   "metadata": {},
   "outputs": [
    {
     "name": "stdout",
     "output_type": "stream",
     "text": [
      "1.21.5\n"
     ]
    }
   ],
   "source": [
    "import numpy as np\n",
    "\n",
    "print(np.__version__)"
   ]
  },
  {
   "cell_type": "markdown",
   "id": "b0d38d69",
   "metadata": {},
   "source": [
    "Creating a list without numpy in the traditional python style"
   ]
  },
  {
   "cell_type": "code",
   "execution_count": 2,
   "id": "a521d76c",
   "metadata": {},
   "outputs": [
    {
     "data": {
      "text/plain": [
       "list"
      ]
     },
     "execution_count": 2,
     "metadata": {},
     "output_type": "execute_result"
    }
   ],
   "source": [
    "import numpy as np\n",
    "\n",
    "some_list = [1, 2, 3, 4, 5, 6]\n",
    "type(some_list)"
   ]
  },
  {
   "cell_type": "markdown",
   "id": "dc20a7b5",
   "metadata": {},
   "source": [
    "## Arrays\n",
    "            \n",
    "- We can create 1-D, 2-D, 3-D or N-D Numpy arrays. \n",
    "- On this object, the attribute `shape` represents the dimensions."
   ]
  },
  {
   "cell_type": "markdown",
   "id": "53af548e",
   "metadata": {},
   "source": [
    "Creating an array from a simple list"
   ]
  },
  {
   "cell_type": "code",
   "execution_count": 3,
   "id": "3b567f50",
   "metadata": {},
   "outputs": [
    {
     "data": {
      "text/plain": [
       "numpy.ndarray"
      ]
     },
     "metadata": {},
     "output_type": "display_data"
    },
    {
     "data": {
      "text/plain": [
       "array([1, 2, 3, 4, 5, 6])"
      ]
     },
     "metadata": {},
     "output_type": "display_data"
    },
    {
     "data": {
      "text/plain": [
       "(6,)"
      ]
     },
     "metadata": {},
     "output_type": "display_data"
    },
    {
     "data": {
      "text/plain": [
       "1"
      ]
     },
     "metadata": {},
     "output_type": "display_data"
    }
   ],
   "source": [
    "some_array = np.array(some_list)\n",
    "\n",
    "display(\n",
    "    type(some_array),\n",
    "    some_array,\n",
    "    some_array.shape,\n",
    "    some_array.ndim\n",
    ")"
   ]
  },
  {
   "cell_type": "markdown",
   "id": "86c147c0",
   "metadata": {},
   "source": [
    "Creating an array from lists"
   ]
  },
  {
   "cell_type": "code",
   "execution_count": 4,
   "id": "3d234955",
   "metadata": {},
   "outputs": [
    {
     "data": {
      "text/plain": [
       "numpy.ndarray"
      ]
     },
     "metadata": {},
     "output_type": "display_data"
    },
    {
     "data": {
      "text/plain": [
       "array([[1, 2, 3],\n",
       "       [4, 5, 6]])"
      ]
     },
     "metadata": {},
     "output_type": "display_data"
    },
    {
     "data": {
      "text/plain": [
       "(2, 3)"
      ]
     },
     "metadata": {},
     "output_type": "display_data"
    },
    {
     "data": {
      "text/plain": [
       "2"
      ]
     },
     "metadata": {},
     "output_type": "display_data"
    }
   ],
   "source": [
    "some_matriz = np.array([[1, 2, 3], [4, 5, 6]])\n",
    "\n",
    "display(\n",
    "    type(some_matriz),\n",
    "    some_matriz,\n",
    "    some_matriz.shape,\n",
    "    some_matriz.ndim\n",
    ")"
   ]
  },
  {
   "cell_type": "markdown",
   "id": "976d3dde",
   "metadata": {},
   "source": [
    "Creating an 3D array from lists"
   ]
  },
  {
   "cell_type": "code",
   "execution_count": 5,
   "id": "63c47702",
   "metadata": {},
   "outputs": [
    {
     "data": {
      "text/plain": [
       "numpy.ndarray"
      ]
     },
     "metadata": {},
     "output_type": "display_data"
    },
    {
     "data": {
      "text/plain": [
       "array([[[1, 2, 3],\n",
       "        [4, 5, 6]],\n",
       "\n",
       "       [[1, 2, 3],\n",
       "        [4, 5, 6]]])"
      ]
     },
     "metadata": {},
     "output_type": "display_data"
    },
    {
     "data": {
      "text/plain": [
       "(2, 2, 3)"
      ]
     },
     "metadata": {},
     "output_type": "display_data"
    },
    {
     "data": {
      "text/plain": [
       "3"
      ]
     },
     "metadata": {},
     "output_type": "display_data"
    }
   ],
   "source": [
    "some_3d = np.array([[[1, 2, 3], [4, 5, 6]], [[1, 2, 3], [4, 5, 6]]])\n",
    "\n",
    "display(\n",
    "    type(some_3d),\n",
    "    some_3d,\n",
    "    some_3d.shape,\n",
    "    some_3d.ndim\n",
    ")"
   ]
  },
  {
   "cell_type": "markdown",
   "id": "fbc7f60e",
   "metadata": {},
   "source": [
    "Creating an N-Dimentions array"
   ]
  },
  {
   "cell_type": "code",
   "execution_count": 6,
   "id": "fd78f6ef",
   "metadata": {},
   "outputs": [
    {
     "data": {
      "text/plain": [
       "numpy.ndarray"
      ]
     },
     "metadata": {},
     "output_type": "display_data"
    },
    {
     "data": {
      "text/plain": [
       "array([[[[[1, 2, 3, 4]]]]])"
      ]
     },
     "metadata": {},
     "output_type": "display_data"
    },
    {
     "data": {
      "text/plain": [
       "(1, 1, 1, 1, 4)"
      ]
     },
     "metadata": {},
     "output_type": "display_data"
    },
    {
     "data": {
      "text/plain": [
       "5"
      ]
     },
     "metadata": {},
     "output_type": "display_data"
    }
   ],
   "source": [
    "some_nd = np.array([1, 2, 3, 4], ndmin=5)\n",
    "\n",
    "display(\n",
    "    type(some_nd),\n",
    "    some_nd,\n",
    "    some_nd.shape,\n",
    "    some_nd.ndim\n",
    ")"
   ]
  },
  {
   "cell_type": "markdown",
   "id": "b0060455",
   "metadata": {},
   "source": [
    "## Functions to populate Arrays"
   ]
  },
  {
   "cell_type": "code",
   "execution_count": 7,
   "id": "af276940",
   "metadata": {},
   "outputs": [
    {
     "data": {
      "text/plain": [
       "array([1., 1., 1., 1., 1.])"
      ]
     },
     "execution_count": 7,
     "metadata": {},
     "output_type": "execute_result"
    }
   ],
   "source": [
    "#\n",
    "# Function ones()\n",
    "# ===============================================\n",
    "#\n",
    "ones_array = np.ones(5)\n",
    "ones_array"
   ]
  },
  {
   "cell_type": "code",
   "execution_count": 8,
   "id": "7bc2045a",
   "metadata": {},
   "outputs": [
    {
     "data": {
      "text/plain": [
       "array([0., 0., 0., 0., 0.])"
      ]
     },
     "execution_count": 8,
     "metadata": {},
     "output_type": "execute_result"
    }
   ],
   "source": [
    "#\n",
    "# Function zeros()\n",
    "# ===============================================\n",
    "#\n",
    "ones_array = np.zeros(5)\n",
    "ones_array"
   ]
  },
  {
   "cell_type": "code",
   "execution_count": 9,
   "id": "9b8aa8f1",
   "metadata": {},
   "outputs": [
    {
     "data": {
      "text/plain": [
       "array([0, 1, 2, 3, 4, 5, 6, 7, 8, 9])"
      ]
     },
     "execution_count": 9,
     "metadata": {},
     "output_type": "execute_result"
    }
   ],
   "source": [
    "#\n",
    "# Function arange()\n",
    "# ===============================================\n",
    "#\n",
    "range_array = np.arange(10)\n",
    "range_array"
   ]
  },
  {
   "cell_type": "code",
   "execution_count": 10,
   "id": "25d7e529",
   "metadata": {},
   "outputs": [
    {
     "data": {
      "text/plain": [
       "array([1.        , 1.21052632, 1.42105263, 1.63157895, 1.84210526,\n",
       "       2.05263158, 2.26315789, 2.47368421, 2.68421053, 2.89473684,\n",
       "       3.10526316, 3.31578947, 3.52631579, 3.73684211, 3.94736842,\n",
       "       4.15789474, 4.36842105, 4.57894737, 4.78947368, 5.        ])"
      ]
     },
     "execution_count": 10,
     "metadata": {},
     "output_type": "execute_result"
    }
   ],
   "source": [
    "#\n",
    "# Function linspace()\n",
    "# ===============================================\n",
    "#\n",
    "linspace_array = np.linspace(\n",
    "    start=1,\n",
    "    stop=5,\n",
    "    num=20,\n",
    "    endpoint=True,\n",
    ")\n",
    "\n",
    "linspace_array"
   ]
  },
  {
   "cell_type": "code",
   "execution_count": 11,
   "id": "7363c10f",
   "metadata": {},
   "outputs": [
    {
     "data": {
      "text/plain": [
       "array([[0.73541058, 0.5544994 , 0.91764624, 0.09254991],\n",
       "       [0.25536545, 0.015949  , 0.01451477, 0.81652083],\n",
       "       [0.04434863, 0.03342206, 0.51707768, 0.01378952]])"
      ]
     },
     "metadata": {},
     "output_type": "display_data"
    },
    {
     "data": {
      "text/plain": [
       "''"
      ]
     },
     "metadata": {},
     "output_type": "display_data"
    },
    {
     "data": {
      "text/plain": [
       "array([[1.97630651, 1.44172446, 1.90780345, 1.43736126],\n",
       "       [1.49883477, 1.14069806, 1.48776941, 1.46428511],\n",
       "       [1.33137599, 1.45093633, 1.6110255 , 1.69936877]])"
      ]
     },
     "metadata": {},
     "output_type": "display_data"
    },
    {
     "data": {
      "text/plain": [
       "''"
      ]
     },
     "metadata": {},
     "output_type": "display_data"
    },
    {
     "data": {
      "text/plain": [
       "array([[ 2.43406063, -1.75987083,  2.88043065, -0.10227874],\n",
       "       [ 7.02894776,  3.57506065,  0.89632731, -1.43588813],\n",
       "       [ 2.37577466,  0.51483339,  2.68488829,  4.74288296]])"
      ]
     },
     "metadata": {},
     "output_type": "display_data"
    }
   ],
   "source": [
    "#\n",
    "# Using random numbers\n",
    "# ===============================================\n",
    "#\n",
    "display(\n",
    "    np.random.random(\n",
    "        size=(3, 4),\n",
    "    ),\n",
    "    \"\",\n",
    "    np.random.uniform(\n",
    "        low=1,\n",
    "        high=2,\n",
    "        size=(3, 4),\n",
    "    ),\n",
    "    \"\",\n",
    "    np.random.normal(\n",
    "        loc=1,\n",
    "        scale=2,\n",
    "        size=(3, 4),\n",
    "    ),\n",
    ")"
   ]
  },
  {
   "cell_type": "markdown",
   "id": "b3084c98",
   "metadata": {},
   "source": [
    "## Selecting elements of an array\n",
    "\n",
    "Selecting one or a slice"
   ]
  },
  {
   "cell_type": "code",
   "execution_count": 12,
   "id": "046ef0f4",
   "metadata": {},
   "outputs": [
    {
     "data": {
      "text/plain": [
       "0"
      ]
     },
     "metadata": {},
     "output_type": "display_data"
    },
    {
     "data": {
      "text/plain": [
       "9"
      ]
     },
     "metadata": {},
     "output_type": "display_data"
    },
    {
     "data": {
      "text/plain": [
       "array([2, 3, 4, 5, 6])"
      ]
     },
     "metadata": {},
     "output_type": "display_data"
    }
   ],
   "source": [
    "some_array = np.arange(10)\n",
    "\n",
    "display(\n",
    "    some_array[0],\n",
    "    some_array[-1],\n",
    "    some_array[2:7],\n",
    ")"
   ]
  },
  {
   "cell_type": "markdown",
   "id": "44575958",
   "metadata": {},
   "source": [
    "Selecting columns of a 2-D array"
   ]
  },
  {
   "cell_type": "code",
   "execution_count": 13,
   "id": "bcfe2008",
   "metadata": {},
   "outputs": [
    {
     "data": {
      "text/plain": [
       "array([1, 4, 7])"
      ]
     },
     "execution_count": 13,
     "metadata": {},
     "output_type": "execute_result"
    }
   ],
   "source": [
    "some_matrix = np.array(\n",
    "    [\n",
    "        [1, 2, 3],\n",
    "        [4, 5, 6],\n",
    "        [7, 8, 9],\n",
    "    ]\n",
    ")\n",
    "some_matrix[:,0]"
   ]
  },
  {
   "cell_type": "code",
   "execution_count": 14,
   "id": "2ac6e91b",
   "metadata": {},
   "outputs": [
    {
     "data": {
      "text/plain": [
       "array([2, 5, 8])"
      ]
     },
     "execution_count": 14,
     "metadata": {},
     "output_type": "execute_result"
    }
   ],
   "source": [
    "some_matrix[:,1]"
   ]
  },
  {
   "cell_type": "markdown",
   "id": "b784ab2b",
   "metadata": {},
   "source": [
    "Selecting rows of a 2-D array"
   ]
  },
  {
   "cell_type": "code",
   "execution_count": 15,
   "id": "bf16351b",
   "metadata": {},
   "outputs": [
    {
     "data": {
      "text/plain": [
       "array([4, 5, 6])"
      ]
     },
     "execution_count": 15,
     "metadata": {},
     "output_type": "execute_result"
    }
   ],
   "source": [
    "some_matrix[1,:]"
   ]
  },
  {
   "cell_type": "markdown",
   "id": "f4e153c7",
   "metadata": {},
   "source": [
    "## Changing the shape of arrays\n",
    "\n",
    "The `reshape()` Method"
   ]
  },
  {
   "cell_type": "code",
   "execution_count": 16,
   "id": "8fc4e423",
   "metadata": {},
   "outputs": [
    {
     "data": {
      "text/plain": [
       "array([[0, 1, 2, 3, 4],\n",
       "       [5, 6, 7, 8, 9]])"
      ]
     },
     "metadata": {},
     "output_type": "display_data"
    },
    {
     "data": {
      "text/plain": [
       "'---'"
      ]
     },
     "metadata": {},
     "output_type": "display_data"
    },
    {
     "data": {
      "text/plain": [
       "array([[0, 1],\n",
       "       [2, 3],\n",
       "       [4, 5],\n",
       "       [6, 7],\n",
       "       [8, 9]])"
      ]
     },
     "metadata": {},
     "output_type": "display_data"
    },
    {
     "data": {
      "text/plain": [
       "'---'"
      ]
     },
     "metadata": {},
     "output_type": "display_data"
    },
    {
     "data": {
      "text/plain": [
       "(5, 2)"
      ]
     },
     "metadata": {},
     "output_type": "display_data"
    }
   ],
   "source": [
    "display(\n",
    "    range_array.reshape(2, 5),\n",
    "    '---',\n",
    "    range_array.reshape(5, 2),\n",
    "    '---',\n",
    "    range_array.reshape(5, 2).shape,\n",
    ")"
   ]
  },
  {
   "cell_type": "code",
   "execution_count": 17,
   "id": "e376d76c",
   "metadata": {},
   "outputs": [
    {
     "data": {
      "text/plain": [
       "array([[1, 2],\n",
       "       [2, 3],\n",
       "       [3, 4]])"
      ]
     },
     "execution_count": 17,
     "metadata": {},
     "output_type": "execute_result"
    }
   ],
   "source": [
    "#\n",
    "# Función stack()\n",
    "# ===============================================\n",
    "#\n",
    "a = np.array((1,2,3))\n",
    "b = np.array((2,3,4))\n",
    "ab = np.column_stack((a,b))\n",
    "ab"
   ]
  },
  {
   "cell_type": "markdown",
   "id": "158700ea",
   "metadata": {},
   "source": [
    "## Some statistical functions"
   ]
  },
  {
   "cell_type": "code",
   "execution_count": 18,
   "id": "d2108c4f",
   "metadata": {},
   "outputs": [
    {
     "data": {
      "text/plain": [
       "4.5"
      ]
     },
     "metadata": {},
     "output_type": "display_data"
    },
    {
     "data": {
      "text/plain": [
       "4.5"
      ]
     },
     "metadata": {},
     "output_type": "display_data"
    },
    {
     "data": {
      "text/plain": [
       "8.25"
      ]
     },
     "metadata": {},
     "output_type": "display_data"
    },
    {
     "data": {
      "text/plain": [
       "2.8722813232690143"
      ]
     },
     "metadata": {},
     "output_type": "display_data"
    }
   ],
   "source": [
    "display(\n",
    "    np.mean(range_array),\n",
    "    np.median(range_array),\n",
    "    np.var(range_array),\n",
    "    np.std(range_array),\n",
    ")"
   ]
  },
  {
   "cell_type": "markdown",
   "id": "ffaff4c1",
   "metadata": {},
   "source": [
    "## Arithmetic operators over arrays"
   ]
  },
  {
   "cell_type": "code",
   "execution_count": 27,
   "id": "262cbd5e",
   "metadata": {},
   "outputs": [
    {
     "data": {
      "text/plain": [
       "array([0.79323517, 0.20877097, 0.83360937, 0.27508421])"
      ]
     },
     "metadata": {},
     "output_type": "display_data"
    },
    {
     "data": {
      "text/plain": [
       "array([0.63577448, 0.79597308, 0.79891417, 0.25511472])"
      ]
     },
     "metadata": {},
     "output_type": "display_data"
    },
    {
     "data": {
      "text/plain": [
       "array([1.42900965, 1.00474405, 1.63252354, 0.53019894])"
      ]
     },
     "metadata": {},
     "output_type": "display_data"
    },
    {
     "data": {
      "text/plain": [
       "array([1.96243728, 0.32951361, 1.30605761, 4.22663376])"
      ]
     },
     "metadata": {},
     "output_type": "display_data"
    }
   ],
   "source": [
    "first_array = np.random.random(4)\n",
    "second_array = np.random.random(4)\n",
    "\n",
    "display(\n",
    "    first_array,\n",
    "    second_array,\n",
    "    first_array + second_array,\n",
    "    first_array / second_array **2,\n",
    ")"
   ]
  },
  {
   "cell_type": "code",
   "execution_count": 28,
   "id": "a5c9787c",
   "metadata": {
    "scrolled": true
   },
   "outputs": [
    {
     "data": {
      "text/plain": [
       "array([[1.738643  , 1.72579581, 1.1002487 ],\n",
       "       [1.33708745, 1.64499526, 1.03884638],\n",
       "       [1.67967974, 1.42598663, 1.61657016]])"
      ]
     },
     "metadata": {},
     "output_type": "display_data"
    },
    {
     "data": {
      "text/plain": [
       "array([[10.75146054, 10.46066928, 10.32792919],\n",
       "       [10.91452128, 10.72594559, 10.86602282],\n",
       "       [10.88509882, 10.22874549, 10.8603423 ]])"
      ]
     },
     "metadata": {},
     "output_type": "display_data"
    },
    {
     "data": {
      "text/plain": [
       "array([[-9.01281754, -8.73487347, -9.22768049],\n",
       "       [-9.57743383, -9.08095033, -9.82717644],\n",
       "       [-9.20541908, -8.80275887, -9.24377214]])"
      ]
     },
     "metadata": {},
     "output_type": "display_data"
    }
   ],
   "source": [
    "first_matrix = np.random.uniform(\n",
    "    low=1,\n",
    "    high=2,\n",
    "    size=(3, 3),\n",
    ")\n",
    "\n",
    "second_matrix = np.random.uniform(\n",
    "    low=10,\n",
    "    high=11,\n",
    "    size=(3, 3),\n",
    ")\n",
    "\n",
    "display(\n",
    "    first_matrix,\n",
    "    second_matrix,\n",
    "    first_matrix - second_matrix\n",
    ")"
   ]
  },
  {
   "cell_type": "markdown",
   "id": "532ebbf7",
   "metadata": {},
   "source": [
    "## Logical operators"
   ]
  },
  {
   "cell_type": "code",
   "execution_count": 29,
   "id": "3fba3b33",
   "metadata": {},
   "outputs": [
    {
     "data": {
      "text/plain": [
       "array([False, False, False, False, False, False,  True,  True,  True,\n",
       "        True])"
      ]
     },
     "execution_count": 29,
     "metadata": {},
     "output_type": "execute_result"
    }
   ],
   "source": [
    "np.arange(10) > 5"
   ]
  },
  {
   "cell_type": "markdown",
   "id": "f8f6617c",
   "metadata": {},
   "source": [
    "## Logical selection"
   ]
  },
  {
   "cell_type": "code",
   "execution_count": 22,
   "id": "bdf024d8",
   "metadata": {},
   "outputs": [
    {
     "data": {
      "text/plain": [
       "array([6, 7, 8, 9])"
      ]
     },
     "execution_count": 22,
     "metadata": {},
     "output_type": "execute_result"
    }
   ],
   "source": [
    "some_array = np.arange(10)\n",
    "bool_array = some_array > 5\n",
    "some_array[bool_array]"
   ]
  },
  {
   "cell_type": "code",
   "execution_count": 30,
   "id": "bb22ea5b",
   "metadata": {},
   "outputs": [
    {
     "data": {
      "text/plain": [
       "array([False, False, False, False,  True,  True,  True,  True, False,\n",
       "       False])"
      ]
     },
     "execution_count": 30,
     "metadata": {},
     "output_type": "execute_result"
    }
   ],
   "source": [
    "array_gt_3 = some_array > 3\n",
    "array_lt_8 = some_array < 8\n",
    "array_gt_3_and_lt_8 = np.logical_and(array_gt_3, array_lt_8)\n",
    "array_gt_3_and_lt_8"
   ]
  },
  {
   "cell_type": "code",
   "execution_count": 31,
   "id": "9ce7feda",
   "metadata": {},
   "outputs": [
    {
     "data": {
      "text/plain": [
       "array([ True,  True,  True,  True, False, False, False, False,  True,\n",
       "        True])"
      ]
     },
     "execution_count": 31,
     "metadata": {},
     "output_type": "execute_result"
    }
   ],
   "source": [
    "array_not_gt_3_or_not_lt_8 = np.logical_or(\n",
    "    np.logical_not(array_gt_3), np.logical_not(array_lt_8)\n",
    ")\n",
    "array_not_gt_3_or_not_lt_8"
   ]
  },
  {
   "cell_type": "markdown",
   "id": "aedde574",
   "metadata": {},
   "source": [
    "## Iteration over arrays"
   ]
  },
  {
   "cell_type": "code",
   "execution_count": 32,
   "id": "f4a1148a",
   "metadata": {},
   "outputs": [
    {
     "name": "stdout",
     "output_type": "stream",
     "text": [
      "0\n",
      "1\n",
      "2\n",
      "3\n",
      "4\n",
      "5\n",
      "6\n",
      "7\n",
      "8\n",
      "9\n"
     ]
    }
   ],
   "source": [
    "for value in range_array:\n",
    "    print(value)"
   ]
  },
  {
   "cell_type": "markdown",
   "id": "693b8b32",
   "metadata": {},
   "source": [
    "iteration over 2-D arrays"
   ]
  },
  {
   "cell_type": "code",
   "execution_count": 34,
   "id": "ca63d2e1",
   "metadata": {},
   "outputs": [
    {
     "data": {
      "text/plain": [
       "array([[1.738643  , 1.72579581, 1.1002487 ],\n",
       "       [1.33708745, 1.64499526, 1.03884638],\n",
       "       [1.67967974, 1.42598663, 1.61657016]])"
      ]
     },
     "metadata": {},
     "output_type": "display_data"
    },
    {
     "name": "stdout",
     "output_type": "stream",
     "text": [
      "\n",
      "[1.738643   1.72579581 1.1002487 ]\n",
      "[1.33708745 1.64499526 1.03884638]\n",
      "[1.67967974 1.42598663 1.61657016]\n",
      "\n",
      "1.7386429996842452\n",
      "1.7257958122700137\n",
      "1.1002486983154074\n",
      "1.3370874504127763\n",
      "1.644995261097727\n",
      "1.0388463767680274\n",
      "1.6796797442172513\n",
      "1.4259866259103022\n",
      "1.6165701556827652\n"
     ]
    }
   ],
   "source": [
    "display(first_matrix)\n",
    "\n",
    "print('')\n",
    "\n",
    "for value in first_matrix:\n",
    "    print(value)\n",
    "\n",
    "print('')\n",
    "\n",
    "for value in np.nditer(first_matrix):\n",
    "    print(value)"
   ]
  },
  {
   "cell_type": "code",
   "execution_count": null,
   "id": "2c0063a1",
   "metadata": {},
   "outputs": [],
   "source": []
  }
 ],
 "metadata": {
  "kernelspec": {
   "display_name": "Python 3 (ipykernel)",
   "language": "python",
   "name": "python3"
  },
  "language_info": {
   "codemirror_mode": {
    "name": "ipython",
    "version": 3
   },
   "file_extension": ".py",
   "mimetype": "text/x-python",
   "name": "python",
   "nbconvert_exporter": "python",
   "pygments_lexer": "ipython3",
   "version": "3.9.13"
  },
  "vscode": {
   "interpreter": {
    "hash": "e7370f93d1d0cde622a1f8e1c04877d8463912d04d973331ad4851f04de6915a"
   }
  }
 },
 "nbformat": 4,
 "nbformat_minor": 5
}

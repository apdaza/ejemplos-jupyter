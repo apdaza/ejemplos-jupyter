{
 "cells": [
  {
   "cell_type": "code",
   "execution_count": 1,
   "id": "96a8ae83",
   "metadata": {},
   "outputs": [],
   "source": [
    "import pandas as pd\n",
    "import numpy as np\n",
    "\n",
    "pd.set_option(\"display.notebook_repr_html\", False)\n"
   ]
  },
  {
   "cell_type": "code",
   "execution_count": 2,
   "id": "f21e146e",
   "metadata": {},
   "outputs": [
    {
     "data": {
      "text/plain": [
       "17075"
      ]
     },
     "execution_count": 2,
     "metadata": {},
     "output_type": "execute_result"
    }
   ],
   "source": [
    "#\n",
    "# Carga del archivo ddesde un repo en GitHub\n",
    "#\n",
    "truck_events = pd.read_csv(\n",
    "    \"https://raw.githubusercontent.com/jdvelasq/datalabs/master/datasets/drivers/truck_event_text_partition.csv\",\n",
    "    sep=\",\",\n",
    "    thousands=None,\n",
    "    decimal=\".\",\n",
    ")\n",
    "\n",
    "#\n",
    "# Total de registros leídos\n",
    "#\n",
    "len(truck_events)"
   ]
  },
  {
   "cell_type": "code",
   "execution_count": 3,
   "id": "9b71058e",
   "metadata": {},
   "outputs": [
    {
     "data": {
      "text/plain": [
       "(17075, 12)"
      ]
     },
     "execution_count": 3,
     "metadata": {},
     "output_type": "execute_result"
    }
   ],
   "source": [
    "#\n",
    "# Tamaño\n",
    "#\n",
    "truck_events.shape"
   ]
  },
  {
   "cell_type": "code",
   "execution_count": 4,
   "id": "daef3578",
   "metadata": {},
   "outputs": [
    {
     "data": {
      "text/plain": [
       "Index(['driverId', 'truckId', 'eventTime', 'eventType', 'longitude',\n",
       "       'latitude', 'eventKey', 'CorrelationId', 'driverName', 'routeId',\n",
       "       'routeName', 'eventDate'],\n",
       "      dtype='object')"
      ]
     },
     "execution_count": 4,
     "metadata": {},
     "output_type": "execute_result"
    }
   ],
   "source": [
    "#\n",
    "# Columnas\n",
    "#\n",
    "truck_events.columns"
   ]
  },
  {
   "cell_type": "code",
   "execution_count": 5,
   "id": "74925f39",
   "metadata": {},
   "outputs": [
    {
     "data": {
      "text/plain": [
       "['CorrelationId',\n",
       " 'driverId',\n",
       " 'driverName',\n",
       " 'eventDate',\n",
       " 'eventKey',\n",
       " 'eventTime',\n",
       " 'eventType',\n",
       " 'latitude',\n",
       " 'longitude',\n",
       " 'routeId',\n",
       " 'routeName',\n",
       " 'truckId']"
      ]
     },
     "execution_count": 5,
     "metadata": {},
     "output_type": "execute_result"
    }
   ],
   "source": [
    "#\n",
    "# Columnas ordenadas alfabeticamente\n",
    "#\n",
    "sorted(truck_events.columns)"
   ]
  },
  {
   "cell_type": "code",
   "execution_count": 6,
   "id": "c739bbfc",
   "metadata": {},
   "outputs": [
    {
     "data": {
      "text/plain": [
       "RangeIndex(start=0, stop=17075, step=1)"
      ]
     },
     "execution_count": 6,
     "metadata": {},
     "output_type": "execute_result"
    }
   ],
   "source": [
    "#\n",
    "# Filas\n",
    "#\n",
    "truck_events.index"
   ]
  },
  {
   "cell_type": "code",
   "execution_count": 7,
   "id": "26877531",
   "metadata": {},
   "outputs": [
    {
     "data": {
      "text/plain": [
       "array([[14, 25, '59:21.4', ..., 160405074,\n",
       "        'Joplin to Kansas City Route 2', '2016-05-27-22'],\n",
       "       [18, 16, '59:21.7', ..., 1565885487,\n",
       "        'Springfield to KC Via Hanibal', '2016-05-27-22'],\n",
       "       [27, 105, '59:21.7', ..., 1325562373,\n",
       "        'Springfield to KC Via Columbia Route 2', '2016-05-27-22'],\n",
       "       ...,\n",
       "       [18, 49, '12:23.7', ..., 1565885487,\n",
       "        'Springfield to KC Via Hanibal', '2016-06-02-20'],\n",
       "       [10, 39, '12:23.8', ..., 1390372503, 'Saint Louis to Tulsa',\n",
       "        '2016-06-02-20'],\n",
       "       [19, 100, '12:24.0', ..., 1962261785,\n",
       "        'Wichita to Little Rock.kml', '2016-06-02-20']], dtype=object)"
      ]
     },
     "execution_count": 7,
     "metadata": {},
     "output_type": "execute_result"
    }
   ],
   "source": [
    "#\n",
    "# Valores\n",
    "#\n",
    "truck_events.values"
   ]
  },
  {
   "cell_type": "code",
   "execution_count": 8,
   "id": "aadb48f8",
   "metadata": {},
   "outputs": [
    {
     "data": {
      "text/plain": [
       "           driverId       truckId     longitude      latitude  CorrelationId  \\\n",
       "count  17075.000000  17075.000000  17075.000000  17075.000000   1.707500e+04   \n",
       "mean      21.043104     55.424480    -91.798316     38.846300   5.373716e+17   \n",
       "std        6.612549     28.936049      2.236992      2.378946   1.295419e+18   \n",
       "min       10.000000     10.000000    -97.370000     34.750000   1.000000e+03   \n",
       "25%       15.000000     27.000000    -93.580000     37.030000   1.000000e+03   \n",
       "50%       21.000000     55.000000    -91.380000     38.970000   1.000000e+03   \n",
       "75%       27.000000     81.000000    -90.150000     41.540000   1.000000e+03   \n",
       "max       32.000000    109.000000    -87.660000     42.250000   3.660000e+18   \n",
       "\n",
       "            routeId  \n",
       "count  1.707500e+04  \n",
       "mean   1.034766e+09  \n",
       "std    6.233880e+08  \n",
       "min    2.492948e+07  \n",
       "25%    3.711828e+08  \n",
       "50%    1.198243e+09  \n",
       "75%    1.565885e+09  \n",
       "max    1.962262e+09  "
      ]
     },
     "execution_count": 8,
     "metadata": {},
     "output_type": "execute_result"
    }
   ],
   "source": [
    "#\n",
    "# Estadísticos de las columnas numéricas\n",
    "#\n",
    "truck_events.describe()"
   ]
  },
  {
   "cell_type": "code",
   "execution_count": 9,
   "id": "4da9e43b",
   "metadata": {},
   "outputs": [
    {
     "data": {
      "text/plain": [
       "   driverId  truckId eventTime eventType  longitude  latitude  \\\n",
       "0        14       25   59:21.4    Normal     -94.58     37.03   \n",
       "1        18       16   59:21.7    Normal     -89.66     39.78   \n",
       "2        27      105   59:21.7    Normal     -90.21     38.65   \n",
       "3        11       74   59:21.7    Normal     -90.20     38.65   \n",
       "4        22       87   59:21.7    Normal     -90.04     35.19   \n",
       "5        22       87   59:22.3    Normal     -90.37     35.21   \n",
       "6        23       68   59:22.4    Normal     -89.91     40.86   \n",
       "7        11       74   59:22.5    Normal     -89.74     39.10   \n",
       "8        20       41   59:22.5    Normal     -93.36     41.69   \n",
       "9        32       42   59:22.5    Normal     -90.37     35.21   \n",
       "\n",
       "                     eventKey  CorrelationId       driverName     routeId  \\\n",
       "0   14|25|9223370572464814373   3.660000e+18       Adis Cesir   160405074   \n",
       "1   18|16|9223370572464814089   3.660000e+18        Grant Liu  1565885487   \n",
       "2  27|105|9223370572464814070   3.660000e+18  Mark Lochbihler  1325562373   \n",
       "3   11|74|9223370572464814123   3.660000e+18   Jamie Engesser  1567254452   \n",
       "4   22|87|9223370572464814101   3.660000e+18    Nadeem Asghar  1198242881   \n",
       "5   22|87|9223370572464813486   3.660000e+18    Nadeem Asghar  1198242881   \n",
       "6   23|68|9223370572464813450   3.660000e+18        Adam Diaz   160405074   \n",
       "7   11|74|9223370572464813355   3.660000e+18   Jamie Engesser  1567254452   \n",
       "8   20|41|9223370572464813344   3.660000e+18     Chris Harris   160779139   \n",
       "9   32|42|9223370572464813296   3.660000e+18   Ryan Templeton  1090292248   \n",
       "\n",
       "                                routeName      eventDate  \n",
       "0           Joplin to Kansas City Route 2  2016-05-27-22  \n",
       "1           Springfield to KC Via Hanibal  2016-05-27-22  \n",
       "2  Springfield to KC Via Columbia Route 2  2016-05-27-22  \n",
       "3           Saint Louis to Memphis Route2  2016-05-27-22  \n",
       "4           Saint Louis to Chicago Route2  2016-05-27-22  \n",
       "5           Saint Louis to Chicago Route2  2016-05-27-22  \n",
       "6           Joplin to Kansas City Route 2  2016-05-27-22  \n",
       "7           Saint Louis to Memphis Route2  2016-05-27-22  \n",
       "8           Des Moines to Chicago Route 2  2016-05-27-22  \n",
       "9          Peoria to Ceder Rapids Route 2  2016-05-27-22  "
      ]
     },
     "execution_count": 9,
     "metadata": {},
     "output_type": "execute_result"
    }
   ],
   "source": [
    "#\n",
    "# Cabecera del archivo\n",
    "#\n",
    "truck_events.head(10)"
   ]
  },
  {
   "cell_type": "code",
   "execution_count": 10,
   "id": "092c6f99",
   "metadata": {},
   "outputs": [
    {
     "data": {
      "text/plain": [
       "       driverId  truckId eventTime eventType  longitude  latitude  \\\n",
       "17065        21      105   12:22.0    Normal     -91.38     34.83   \n",
       "17066        11       27   12:22.2    Normal     -89.74     39.10   \n",
       "17067        30       95   12:23.8    Normal     -89.74     39.10   \n",
       "17068        31       48   12:22.5    Normal     -89.60     41.76   \n",
       "17069        22       24   12:22.9    Normal     -91.32     41.71   \n",
       "17070        11       27   12:23.1    Normal     -90.20     38.65   \n",
       "17071        16       46   12:24.0    Normal     -94.35     38.33   \n",
       "17072        18       49   12:23.7    Normal     -90.52     39.71   \n",
       "17073        10       39   12:23.8    Normal     -93.34     37.21   \n",
       "17074        19      100   12:24.0    Normal     -97.37     36.79   \n",
       "\n",
       "                         eventKey  CorrelationId         driverName  \\\n",
       "17065  21|105|9223370571956433811         1000.0       Jeff Markham   \n",
       "17066   11|27|9223370571956433631         1000.0     Jamie Engesser   \n",
       "17067   30|95|9223370571956432041         1000.0           Dan Rice   \n",
       "17068   31|48|9223370571956433330         1000.0      Rommel Garcia   \n",
       "17069   22|24|9223370571956432911         1000.0      Nadeem Asghar   \n",
       "17070   11|27|9223370571956432681         1000.0     Jamie Engesser   \n",
       "17071   16|46|9223370571956431821         1000.0         Tom McCuch   \n",
       "17072   18|49|9223370571956432141         1000.0          Grant Liu   \n",
       "17073   10|39|9223370571956431961         1000.0  George Vetticaden   \n",
       "17074  19|100|9223370571956431810         1000.0         Ajay Singh   \n",
       "\n",
       "          routeId                       routeName      eventDate  \n",
       "17065  1594289134  Memphis to Little Rock Route 2  2016-06-02-20  \n",
       "17066  1198242881   Saint Louis to Chicago Route2  2016-06-02-20  \n",
       "17067  1198242881   Saint Louis to Chicago Route2  2016-06-02-20  \n",
       "17068   160779139   Des Moines to Chicago Route 2  2016-06-02-20  \n",
       "17069  1090292248  Peoria to Ceder Rapids Route 2  2016-06-02-20  \n",
       "17070  1198242881   Saint Louis to Chicago Route2  2016-06-02-20  \n",
       "17071   160405074   Joplin to Kansas City Route 2  2016-06-02-20  \n",
       "17072  1565885487   Springfield to KC Via Hanibal  2016-06-02-20  \n",
       "17073  1390372503            Saint Louis to Tulsa  2016-06-02-20  \n",
       "17074  1962261785      Wichita to Little Rock.kml  2016-06-02-20  "
      ]
     },
     "execution_count": 10,
     "metadata": {},
     "output_type": "execute_result"
    }
   ],
   "source": [
    "#\n",
    "# Cola del archivo\n",
    "#\n",
    "truck_events.tail(10)"
   ]
  },
  {
   "cell_type": "code",
   "execution_count": 12,
   "id": "be8127f2",
   "metadata": {},
   "outputs": [
    {
     "data": {
      "text/plain": [
       "     driverId  truckId eventTime eventType  longitude  latitude  \\\n",
       "190        10       85   59:50.1    Normal     -95.99     36.17   \n",
       "191        26       57   59:50.2    Normal     -95.99     36.17   \n",
       "192        25       96   59:50.7    Normal     -90.07     35.68   \n",
       "193        24       97   59:50.7    Normal     -89.74     39.10   \n",
       "194        21      109   59:50.8    Normal     -94.46     37.16   \n",
       "195        27      105   59:50.9    Normal     -93.20     38.98   \n",
       "196        26       57   59:50.9    Normal     -95.99     36.17   \n",
       "197        32       42   59:51.4    Normal     -91.38     34.83   \n",
       "198        24       97   59:51.5    Normal     -89.63     39.84   \n",
       "199        12      104   59:51.6    Normal     -90.07     35.10   \n",
       "\n",
       "                       eventKey  CorrelationId            driverName  \\\n",
       "190   10|85|9223370572464785725   3.660000e+18     George Vetticaden   \n",
       "191   26|57|9223370572464785656   3.660000e+18          Michael Aube   \n",
       "192   25|96|9223370572464785126   3.660000e+18  Jean-Philippe Player   \n",
       "193   24|97|9223370572464785095   3.660000e+18           Don Hilborn   \n",
       "194  21|109|9223370572464784965   3.660000e+18          Jeff Markham   \n",
       "195  27|105|9223370572464784955   3.660000e+18       Mark Lochbihler   \n",
       "196   26|57|9223370572464784895   3.660000e+18          Michael Aube   \n",
       "197   32|42|9223370572464784383   3.660000e+18        Ryan Templeton   \n",
       "198   24|97|9223370572464784335   3.660000e+18           Don Hilborn   \n",
       "199  12|104|9223370572464784236   3.660000e+18          Paul Codding   \n",
       "\n",
       "        routeId                               routeName      eventDate  \n",
       "190  1390372503                    Saint Louis to Tulsa  2016-05-27-22  \n",
       "191  1325712174             Saint Louis to Tulsa Route2  2016-05-27-22  \n",
       "192   371182829                  Memphis to Little Rock  2016-05-27-22  \n",
       "193  1090292248          Peoria to Ceder Rapids Route 2  2016-05-27-22  \n",
       "194  1594289134          Memphis to Little Rock Route 2  2016-05-27-22  \n",
       "195  1325562373  Springfield to KC Via Columbia Route 2  2016-05-27-22  \n",
       "196  1325712174             Saint Louis to Tulsa Route2  2016-05-27-22  \n",
       "197  1090292248          Peoria to Ceder Rapids Route 2  2016-05-27-22  \n",
       "198  1090292248          Peoria to Ceder Rapids Route 2  2016-05-27-22  \n",
       "199    24929475                  Peoria to Ceder Rapids  2016-05-27-22  "
      ]
     },
     "execution_count": 12,
     "metadata": {},
     "output_type": "execute_result"
    }
   ],
   "source": [
    "#\n",
    "# Porción intermedia del archivo\n",
    "#\n",
    "truck_events.head(200).tail(10)"
   ]
  },
  {
   "cell_type": "code",
   "execution_count": 15,
   "id": "584fbbd3",
   "metadata": {},
   "outputs": [
    {
     "data": {
      "text/plain": [
       "0             Joplin to Kansas City Route 2\n",
       "1             Springfield to KC Via Hanibal\n",
       "2    Springfield to KC Via Columbia Route 2\n",
       "3             Saint Louis to Memphis Route2\n",
       "4             Saint Louis to Chicago Route2\n",
       "5             Saint Louis to Chicago Route2\n",
       "6             Joplin to Kansas City Route 2\n",
       "7             Saint Louis to Memphis Route2\n",
       "8             Des Moines to Chicago Route 2\n",
       "9            Peoria to Ceder Rapids Route 2\n",
       "Name: routeName, dtype: object"
      ]
     },
     "execution_count": 15,
     "metadata": {},
     "output_type": "execute_result"
    }
   ],
   "source": [
    "# Visualización de una columna\n",
    "\n",
    "truck_events.routeName.head(10)"
   ]
  },
  {
   "cell_type": "code",
   "execution_count": 16,
   "id": "c396273e",
   "metadata": {},
   "outputs": [
    {
     "data": {
      "text/plain": [
       "   driverId  truckId eventTime eventType  longitude  latitude  \\\n",
       "0        14       25   59:21.4    Normal     -94.58     37.03   \n",
       "1        18       16   59:21.7    Normal     -89.66     39.78   \n",
       "2        27      105   59:21.7    Normal     -90.21     38.65   \n",
       "3        11       74   59:21.7    Normal     -90.20     38.65   \n",
       "4        22       87   59:21.7    Normal     -90.04     35.19   \n",
       "5        22       87   59:22.3    Normal     -90.37     35.21   \n",
       "6        23       68   59:22.4    Normal     -89.91     40.86   \n",
       "7        11       74   59:22.5    Normal     -89.74     39.10   \n",
       "8        20       41   59:22.5    Normal     -93.36     41.69   \n",
       "9        32       42   59:22.5    Normal     -90.37     35.21   \n",
       "\n",
       "                     eventKey  CorrelationId       driverName     routeId  \\\n",
       "0   14|25|9223370572464814373   3.660000e+18       Adis Cesir   160405074   \n",
       "1   18|16|9223370572464814089   3.660000e+18        Grant Liu  1565885487   \n",
       "2  27|105|9223370572464814070   3.660000e+18  Mark Lochbihler  1325562373   \n",
       "3   11|74|9223370572464814123   3.660000e+18   Jamie Engesser  1567254452   \n",
       "4   22|87|9223370572464814101   3.660000e+18    Nadeem Asghar  1198242881   \n",
       "5   22|87|9223370572464813486   3.660000e+18    Nadeem Asghar  1198242881   \n",
       "6   23|68|9223370572464813450   3.660000e+18        Adam Diaz   160405074   \n",
       "7   11|74|9223370572464813355   3.660000e+18   Jamie Engesser  1567254452   \n",
       "8   20|41|9223370572464813344   3.660000e+18     Chris Harris   160779139   \n",
       "9   32|42|9223370572464813296   3.660000e+18   Ryan Templeton  1090292248   \n",
       "\n",
       "                                routeName      eventDate  \n",
       "0           Joplin to Kansas City Route 2  2016-05-27-22  \n",
       "1           Springfield to KC Via Hanibal  2016-05-27-22  \n",
       "2  Springfield to KC Via Columbia Route 2  2016-05-27-22  \n",
       "3           Saint Louis to Memphis Route2  2016-05-27-22  \n",
       "4           Saint Louis to Chicago Route2  2016-05-27-22  \n",
       "5           Saint Louis to Chicago Route2  2016-05-27-22  \n",
       "6           Joplin to Kansas City Route 2  2016-05-27-22  \n",
       "7           Saint Louis to Memphis Route2  2016-05-27-22  \n",
       "8           Des Moines to Chicago Route 2  2016-05-27-22  \n",
       "9          Peoria to Ceder Rapids Route 2  2016-05-27-22  "
      ]
     },
     "execution_count": 16,
     "metadata": {},
     "output_type": "execute_result"
    }
   ],
   "source": [
    "# Obtención de un subconjunto de registros\n",
    "\n",
    "truck_events_subset = truck_events[0:10]\n",
    "truck_events_subset"
   ]
  },
  {
   "cell_type": "code",
   "execution_count": 17,
   "id": "6700b392",
   "metadata": {},
   "outputs": [
    {
     "data": {
      "text/plain": [
       "   driverId eventTime eventType\n",
       "0        14   59:21.4    Normal\n",
       "1        18   59:21.7    Normal\n",
       "2        27   59:21.7    Normal\n",
       "3        11   59:21.7    Normal\n",
       "4        22   59:21.7    Normal\n",
       "5        22   59:22.3    Normal\n",
       "6        23   59:22.4    Normal\n",
       "7        11   59:22.5    Normal\n",
       "8        20   59:22.5    Normal\n",
       "9        32   59:22.5    Normal"
      ]
     },
     "execution_count": 17,
     "metadata": {},
     "output_type": "execute_result"
    }
   ],
   "source": [
    "# Obtención de un subconjunto de columnas\n",
    "\n",
    "specific_columns = truck_events_subset[[\"driverId\", \"eventTime\", \"eventType\"]]\n",
    "specific_columns"
   ]
  },
  {
   "cell_type": "code",
   "execution_count": 18,
   "id": "e5a55775",
   "metadata": {},
   "outputs": [
    {
     "data": {
      "text/plain": [
       "   driverId eventTime eventType\n",
       "0        14   59:21.4    Normal\n",
       "1        18   59:21.7    Normal\n",
       "2        27   59:21.7    Normal\n",
       "3        11   59:21.7    Normal\n",
       "4        22   59:21.7    Normal\n",
       "5        22   59:22.3    Normal\n",
       "6        23   59:22.4    Normal\n",
       "7        11   59:22.5    Normal\n",
       "8        20   59:22.5    Normal\n",
       "9        32   59:22.5    Normal"
      ]
     },
     "execution_count": 18,
     "metadata": {},
     "output_type": "execute_result"
    }
   ],
   "source": [
    "#\n",
    "# Selección usando los nombres de las columnas.\n",
    "#\n",
    "truck_events_subset.filter(items=[\"driverId\", \"eventTime\", \"eventType\"])"
   ]
  },
  {
   "cell_type": "code",
   "execution_count": 19,
   "id": "423f03a9",
   "metadata": {},
   "outputs": [
    {
     "data": {
      "text/plain": [
       "  eventTime eventType  longitude  latitude       driverName  \\\n",
       "0   59:21.4    Normal     -94.58     37.03       Adis Cesir   \n",
       "1   59:21.7    Normal     -89.66     39.78        Grant Liu   \n",
       "2   59:21.7    Normal     -90.21     38.65  Mark Lochbihler   \n",
       "3   59:21.7    Normal     -90.20     38.65   Jamie Engesser   \n",
       "4   59:21.7    Normal     -90.04     35.19    Nadeem Asghar   \n",
       "5   59:22.3    Normal     -90.37     35.21    Nadeem Asghar   \n",
       "6   59:22.4    Normal     -89.91     40.86        Adam Diaz   \n",
       "7   59:22.5    Normal     -89.74     39.10   Jamie Engesser   \n",
       "8   59:22.5    Normal     -93.36     41.69     Chris Harris   \n",
       "9   59:22.5    Normal     -90.37     35.21   Ryan Templeton   \n",
       "\n",
       "                                routeName      eventDate  \n",
       "0           Joplin to Kansas City Route 2  2016-05-27-22  \n",
       "1           Springfield to KC Via Hanibal  2016-05-27-22  \n",
       "2  Springfield to KC Via Columbia Route 2  2016-05-27-22  \n",
       "3           Saint Louis to Memphis Route2  2016-05-27-22  \n",
       "4           Saint Louis to Chicago Route2  2016-05-27-22  \n",
       "5           Saint Louis to Chicago Route2  2016-05-27-22  \n",
       "6           Joplin to Kansas City Route 2  2016-05-27-22  \n",
       "7           Saint Louis to Memphis Route2  2016-05-27-22  \n",
       "8           Des Moines to Chicago Route 2  2016-05-27-22  \n",
       "9          Peoria to Ceder Rapids Route 2  2016-05-27-22  "
      ]
     },
     "execution_count": 19,
     "metadata": {},
     "output_type": "execute_result"
    }
   ],
   "source": [
    "#\n",
    "# Selección de las columnas cuyo nombre termina\n",
    "# en 'e'.\n",
    "#\n",
    "truck_events_subset.filter(regex='e$', axis=1)"
   ]
  },
  {
   "cell_type": "code",
   "execution_count": 20,
   "id": "fcd2be2d",
   "metadata": {},
   "outputs": [
    {
     "data": {
      "text/plain": [
       "   driverId  truckId eventTime eventType  longitude  latitude  \\\n",
       "3        11       74   59:21.7    Normal     -90.20     38.65   \n",
       "7        11       74   59:22.5    Normal     -89.74     39.10   \n",
       "8        20       41   59:22.5    Normal     -93.36     41.69   \n",
       "\n",
       "                    eventKey  CorrelationId      driverName     routeId  \\\n",
       "3  11|74|9223370572464814123   3.660000e+18  Jamie Engesser  1567254452   \n",
       "7  11|74|9223370572464813355   3.660000e+18  Jamie Engesser  1567254452   \n",
       "8  20|41|9223370572464813344   3.660000e+18    Chris Harris   160779139   \n",
       "\n",
       "                       routeName      eventDate  \n",
       "3  Saint Louis to Memphis Route2  2016-05-27-22  \n",
       "7  Saint Louis to Memphis Route2  2016-05-27-22  \n",
       "8  Des Moines to Chicago Route 2  2016-05-27-22  "
      ]
     },
     "execution_count": 20,
     "metadata": {},
     "output_type": "execute_result"
    }
   ],
   "source": [
    "#\n",
    "# Operador isin\n",
    "#\n",
    "truck_events_subset[\n",
    "    truck_events_subset.driverName.isin(\n",
    "        [\n",
    "            \"Jamie Engesser\",\n",
    "            \"Chris Harris\",\n",
    "        ]\n",
    "    )\n",
    "]"
   ]
  },
  {
   "cell_type": "code",
   "execution_count": 23,
   "id": "b4a61648",
   "metadata": {},
   "outputs": [
    {
     "data": {
      "text/plain": [
       "  eventTime eventType                    eventKey      eventDate\n",
       "0   59:21.4    Normal   14|25|9223370572464814373  2016-05-27-22\n",
       "1   59:21.7    Normal   18|16|9223370572464814089  2016-05-27-22\n",
       "2   59:21.7    Normal  27|105|9223370572464814070  2016-05-27-22\n",
       "3   59:21.7    Normal   11|74|9223370572464814123  2016-05-27-22\n",
       "4   59:21.7    Normal   22|87|9223370572464814101  2016-05-27-22\n",
       "5   59:22.3    Normal   22|87|9223370572464813486  2016-05-27-22\n",
       "6   59:22.4    Normal   23|68|9223370572464813450  2016-05-27-22\n",
       "7   59:22.5    Normal   11|74|9223370572464813355  2016-05-27-22\n",
       "8   59:22.5    Normal   20|41|9223370572464813344  2016-05-27-22\n",
       "9   59:22.5    Normal   32|42|9223370572464813296  2016-05-27-22"
      ]
     },
     "execution_count": 23,
     "metadata": {},
     "output_type": "execute_result"
    }
   ],
   "source": [
    "#\n",
    "# Selección de las columnas que contienen 'ent'\n",
    "#\n",
    "truck_events_subset.filter(like='ent', axis=1)"
   ]
  },
  {
   "cell_type": "code",
   "execution_count": 24,
   "id": "38a1819c",
   "metadata": {},
   "outputs": [
    {
     "data": {
      "text/plain": [
       "    driverId eventTime eventType\n",
       "0         14   59:21.4    Normal\n",
       "1         18   59:21.7    Normal\n",
       "2         27   59:21.7    Normal\n",
       "3         11   59:21.7    Normal\n",
       "4         22   59:21.7    Normal\n",
       "5         22   59:22.3    Normal\n",
       "6         23   59:22.4    Normal\n",
       "7         11   59:22.5    Normal\n",
       "8         20   59:22.5    Normal\n",
       "9         32   59:22.5    Normal\n",
       "10        27   59:22.6    Normal"
      ]
     },
     "execution_count": 24,
     "metadata": {},
     "output_type": "execute_result"
    }
   ],
   "source": [
    "# Obtención de un subconjunto de filas y columnas\n",
    "\n",
    "new_sub_set = truck_events.loc[0:10, [\"driverId\", \"eventTime\", \"eventType\"]]\n",
    "new_sub_set"
   ]
  },
  {
   "cell_type": "code",
   "execution_count": 29,
   "id": "7c456c13",
   "metadata": {},
   "outputs": [
    {
     "data": {
      "text/plain": [
       "driverId                                    18\n",
       "truckId                                     16\n",
       "eventTime                              59:21.7\n",
       "eventType                               Normal\n",
       "longitude                               -89.66\n",
       "latitude                                 39.78\n",
       "eventKey             18|16|9223370572464814089\n",
       "CorrelationId            3660000000000000000.0\n",
       "driverName                           Grant Liu\n",
       "routeId                             1565885487\n",
       "routeName        Springfield to KC Via Hanibal\n",
       "eventDate                        2016-05-27-22\n",
       "Name: 1, dtype: object"
      ]
     },
     "execution_count": 29,
     "metadata": {},
     "output_type": "execute_result"
    }
   ],
   "source": [
    "# Obtención de un registro en particular\n",
    "\n",
    "truck_events.iloc[1]"
   ]
  },
  {
   "cell_type": "code",
   "execution_count": 30,
   "id": "d7392c26",
   "metadata": {},
   "outputs": [
    {
     "data": {
      "text/plain": [
       "'18|16|9223370572464814089'"
      ]
     },
     "execution_count": 30,
     "metadata": {},
     "output_type": "execute_result"
    }
   ],
   "source": [
    "# Obtención de un campo de un registro en particular\n",
    "\n",
    "truck_events.iloc[1].eventKey"
   ]
  },
  {
   "cell_type": "code",
   "execution_count": 31,
   "id": "45f5cf25",
   "metadata": {},
   "outputs": [
    {
     "data": {
      "text/plain": [
       "'18|16|9223370572464814089'"
      ]
     },
     "execution_count": 31,
     "metadata": {},
     "output_type": "execute_result"
    }
   ],
   "source": [
    "truck_events.iloc[1][\"eventKey\"]"
   ]
  },
  {
   "cell_type": "code",
   "execution_count": 32,
   "id": "d2d70d54",
   "metadata": {},
   "outputs": [],
   "source": [
    "# Escritura de la tabla en el disco\n",
    "\n",
    "specific_columns.to_csv(\"/tmp/specific-columns.csv\", sep=\",\", header=True, index=False)\n"
   ]
  },
  {
   "cell_type": "code",
   "execution_count": 33,
   "id": "36da9a98",
   "metadata": {},
   "outputs": [
    {
     "name": "stdout",
     "output_type": "stream",
     "text": [
      "config-err-RC0Nua\r\n",
      "hsperfdata_alejandro\r\n",
      "mintUpdate\r\n",
      "net-export\r\n",
      "pyright-19964-018FdiG1a5AY\r\n",
      "pyright-19964-duAi2jOPs57s\r\n",
      "python-languageserver-cancellation\r\n",
      "specific-columns.csv\r\n",
      "ssh-twTg5m9yRY8O\r\n",
      "systemd-private-78da81af9b3f4fea9780c60166aaf46a-colord.service-nmxvpj\r\n",
      "systemd-private-78da81af9b3f4fea9780c60166aaf46a-geoclue.service-PYQKbg\r\n",
      "systemd-private-78da81af9b3f4fea9780c60166aaf46a-ModemManager.service-xk26ef\r\n",
      "systemd-private-78da81af9b3f4fea9780c60166aaf46a-systemd-logind.service-v1dgWi\r\n",
      "systemd-private-78da81af9b3f4fea9780c60166aaf46a-systemd-resolved.service-OGq7hh\r\n",
      "systemd-private-78da81af9b3f4fea9780c60166aaf46a-systemd-timesyncd.service-mny6ki\r\n",
      "systemd-private-78da81af9b3f4fea9780c60166aaf46a-upower.service-NURRwi\r\n"
     ]
    }
   ],
   "source": [
    "#\n",
    "# Se visualiza el contenido del directorio\n",
    "#\n",
    "!ls /tmp/"
   ]
  },
  {
   "cell_type": "code",
   "execution_count": 34,
   "id": "9aeddc77",
   "metadata": {},
   "outputs": [
    {
     "name": "stdout",
     "output_type": "stream",
     "text": [
      "driverId,eventTime,eventType\r\n",
      "14,59:21.4,Normal\r\n",
      "18,59:21.7,Normal\r\n",
      "27,59:21.7,Normal\r\n",
      "11,59:21.7,Normal\r\n",
      "22,59:21.7,Normal\r\n",
      "22,59:22.3,Normal\r\n",
      "23,59:22.4,Normal\r\n",
      "11,59:22.5,Normal\r\n",
      "20,59:22.5,Normal\r\n",
      "32,59:22.5,Normal\r\n"
     ]
    }
   ],
   "source": [
    "#\n",
    "# Se visualiza la parte final del archivo\n",
    "#\n",
    "!cat /tmp/specific-columns.csv"
   ]
  }
 ],
 "metadata": {
  "kernelspec": {
   "display_name": "Python 3.11.0 64-bit",
   "language": "python",
   "name": "python3"
  },
  "language_info": {
   "codemirror_mode": {
    "name": "ipython",
    "version": 3
   },
   "file_extension": ".py",
   "mimetype": "text/x-python",
   "name": "python",
   "nbconvert_exporter": "python",
   "pygments_lexer": "ipython3",
   "version": "3.11.0"
  },
  "vscode": {
   "interpreter": {
    "hash": "e7370f93d1d0cde622a1f8e1c04877d8463912d04d973331ad4851f04de6915a"
   }
  }
 },
 "nbformat": 4,
 "nbformat_minor": 5
}

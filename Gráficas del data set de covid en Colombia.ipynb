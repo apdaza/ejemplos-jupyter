{
 "cells": [
  {
   "cell_type": "markdown",
   "metadata": {},
   "source": [
    "# Gráficas del data set de covid en Colombia"
   ]
  },
  {
   "cell_type": "code",
   "execution_count": 1,
   "metadata": {},
   "outputs": [],
   "source": [
    "import pandas as pd\n",
    "import numpy as np\n",
    "import matplotlib\n",
    "import matplotlib.pyplot as plt"
   ]
  },
  {
   "cell_type": "code",
   "execution_count": 2,
   "metadata": {},
   "outputs": [],
   "source": [
    "import warnings\n",
    "warnings.filterwarnings('ignore')"
   ]
  },
  {
   "cell_type": "code",
   "execution_count": 3,
   "metadata": {},
   "outputs": [],
   "source": [
    "covid_df = pd.read_csv('Casos_positivos_de_COVID-19_en_Colombia.csv')"
   ]
  },
  {
   "cell_type": "markdown",
   "metadata": {},
   "source": [
    "Limpiamos la data a analizar"
   ]
  },
  {
   "cell_type": "code",
   "execution_count": 7,
   "metadata": {},
   "outputs": [
    {
     "data": {
      "text/plain": [
       "F    2546146\n",
       "M    2306177\n",
       "Name: Sexo, dtype: int64"
      ]
     },
     "execution_count": 7,
     "metadata": {},
     "output_type": "execute_result"
    }
   ],
   "source": [
    "covid_df['Sexo'].value_counts()"
   ]
  },
  {
   "cell_type": "code",
   "execution_count": 5,
   "metadata": {},
   "outputs": [],
   "source": [
    "covid_df['Sexo']=covid_df['Sexo'].str.upper()"
   ]
  },
  {
   "cell_type": "code",
   "execution_count": 9,
   "metadata": {},
   "outputs": [
    {
     "data": {
      "text/plain": [
       "LEVE         4692493\n",
       "FALLECIDO     122953\n",
       "MODERADO       17608\n",
       "GRAVE           2585\n",
       "Name: Estado, dtype: int64"
      ]
     },
     "execution_count": 9,
     "metadata": {},
     "output_type": "execute_result"
    }
   ],
   "source": [
    "covid_df['Estado'].value_counts()"
   ]
  },
  {
   "cell_type": "code",
   "execution_count": 8,
   "metadata": {},
   "outputs": [],
   "source": [
    "covid_df['Estado']=covid_df['Estado'].str.upper()"
   ]
  },
  {
   "cell_type": "code",
   "execution_count": 12,
   "metadata": {
    "scrolled": true
   },
   "outputs": [
    {
     "data": {
      "text/plain": [
       "RECUPERADO    4668790\n",
       "FALLECIDO      122953\n",
       "ACTIVO          46461\n",
       "Name: Recuperado, dtype: int64"
      ]
     },
     "execution_count": 12,
     "metadata": {},
     "output_type": "execute_result"
    }
   ],
   "source": [
    "covid_df['Recuperado'].value_counts()"
   ]
  },
  {
   "cell_type": "code",
   "execution_count": 11,
   "metadata": {},
   "outputs": [],
   "source": [
    "covid_df['Recuperado']=covid_df['Recuperado'].str.upper()"
   ]
  },
  {
   "cell_type": "code",
   "execution_count": 16,
   "metadata": {
    "scrolled": true
   },
   "outputs": [
    {
     "data": {
      "text/plain": [
       "EN ESTUDIO     3163614\n",
       "COMUNITARIA     973760\n",
       "RELACIONADO     711851\n",
       "IMPORTADO         3098\n",
       "Name: Tipo de contagio, dtype: int64"
      ]
     },
     "execution_count": 16,
     "metadata": {},
     "output_type": "execute_result"
    }
   ],
   "source": [
    "covid_df['Tipo de contagio'].value_counts()"
   ]
  },
  {
   "cell_type": "code",
   "execution_count": 14,
   "metadata": {},
   "outputs": [],
   "source": [
    "covid_df['Tipo de contagio']=covid_df['Tipo de contagio'].str.upper()"
   ]
  },
  {
   "cell_type": "code",
   "execution_count": 15,
   "metadata": {
    "scrolled": false
   },
   "outputs": [
    {
     "data": {
      "text/plain": [
       "Por definir                                   17171\n",
       "ZENU                                           7684\n",
       "Sin Comunidad                                  7055\n",
       "PIJAO                                          3501\n",
       "PASTO                                          2540\n",
       "                                              ...  \n",
       "WOUKUCTO                                          1\n",
       "YARALIWOU                                         1\n",
       "LA FLORIDA PIRACUARA PAPURI -ZONA ACAZUNIP        1\n",
       "PIEDRA ALTA                                       1\n",
       "SAUNDE GUIGUAY                                    1\n",
       "Name: Nombre del grupo étnico, Length: 1676, dtype: int64"
      ]
     },
     "execution_count": 15,
     "metadata": {},
     "output_type": "execute_result"
    }
   ],
   "source": [
    "covid_df['Nombre del grupo étnico'].value_counts()"
   ]
  },
  {
   "cell_type": "code",
   "execution_count": 17,
   "metadata": {},
   "outputs": [],
   "source": [
    "covid_df['Nombre del grupo étnico']=covid_df['Nombre del grupo étnico'].str.upper()"
   ]
  },
  {
   "cell_type": "code",
   "execution_count": 18,
   "metadata": {
    "scrolled": false
   },
   "outputs": [
    {
     "data": {
      "text/plain": [
       "BOGOTA                      1429091\n",
       "MEDELLIN                     394549\n",
       "CALI                         268583\n",
       "BARRANQUILLA                 196267\n",
       "CARTAGENA                    120417\n",
       "                             ...   \n",
       "PAPUNAUA (MORICHAL) (CD)          1\n",
       "momil                             1\n",
       "Guepsa                            1\n",
       "MEDELLiN                          1\n",
       "Galapa                            1\n",
       "Name: Nombre municipio, Length: 1046, dtype: int64"
      ]
     },
     "execution_count": 18,
     "metadata": {},
     "output_type": "execute_result"
    }
   ],
   "source": [
    "covid_df['Nombre municipio'].value_counts()"
   ]
  },
  {
   "cell_type": "code",
   "execution_count": 19,
   "metadata": {},
   "outputs": [],
   "source": [
    "covid_df['Nombre municipio']=covid_df['Nombre municipio'].str.upper()"
   ]
  },
  {
   "cell_type": "code",
   "execution_count": 20,
   "metadata": {},
   "outputs": [],
   "source": [
    "covid_df['Nombre departamento']=covid_df['Nombre departamento'].str.upper()"
   ]
  },
  {
   "cell_type": "code",
   "execution_count": 23,
   "metadata": {
    "scrolled": false
   },
   "outputs": [
    {
     "data": {
      "text/plain": [
       "TIEMPO    4092290\n",
       "PCR        576500\n",
       "Name: Tipo de recuperación, dtype: int64"
      ]
     },
     "execution_count": 23,
     "metadata": {},
     "output_type": "execute_result"
    }
   ],
   "source": [
    "covid_df['Tipo de recuperación'].value_counts()"
   ]
  },
  {
   "cell_type": "code",
   "execution_count": 22,
   "metadata": {},
   "outputs": [],
   "source": [
    "covid_df['Tipo de recuperación']=covid_df['Tipo de recuperación'].str.upper()"
   ]
  },
  {
   "cell_type": "code",
   "execution_count": 24,
   "metadata": {
    "scrolled": true
   },
   "outputs": [
    {
     "data": {
      "text/plain": [
       "Casa            4677480\n",
       "Fallecido        122953\n",
       "Hospital          17608\n",
       "casa              15006\n",
       "Hospital UCI       2585\n",
       "CASA                  7\n",
       "Name: Ubicación del caso, dtype: int64"
      ]
     },
     "execution_count": 24,
     "metadata": {},
     "output_type": "execute_result"
    }
   ],
   "source": [
    "covid_df['Ubicación del caso'].value_counts()"
   ]
  },
  {
   "cell_type": "code",
   "execution_count": 25,
   "metadata": {},
   "outputs": [],
   "source": [
    "covid_df['Ubicación del caso']=covid_df['Ubicación del caso'].str.upper()"
   ]
  },
  {
   "cell_type": "code",
   "execution_count": 26,
   "metadata": {},
   "outputs": [
    {
     "data": {
      "text/plain": [
       "1    4836921\n",
       "2      13859\n",
       "3       1543\n",
       "Name: Unidad de medida de edad, dtype: int64"
      ]
     },
     "execution_count": 26,
     "metadata": {},
     "output_type": "execute_result"
    }
   ],
   "source": [
    "covid_df['Unidad de medida de edad'].value_counts()"
   ]
  },
  {
   "cell_type": "code",
   "execution_count": 27,
   "metadata": {},
   "outputs": [],
   "source": [
    "covid_df.to_csv('covid_colombia.csv')"
   ]
  },
  {
   "cell_type": "markdown",
   "metadata": {},
   "source": [
    "Graficas"
   ]
  },
  {
   "cell_type": "code",
   "execution_count": 28,
   "metadata": {},
   "outputs": [
    {
     "data": {
      "text/plain": [
       "['BOGOTA', 'ANTIOQUIA', 'VALLE', 'CUNDINAMARCA', 'SANTANDER']"
      ]
     },
     "execution_count": 28,
     "metadata": {},
     "output_type": "execute_result"
    }
   ],
   "source": [
    "df = covid_df.groupby(['Nombre departamento'])['ID de caso'].count()\n",
    "df = df.sort_values(ascending=False)\n",
    "lista = list(df[range(5)].index)\n",
    "lista"
   ]
  },
  {
   "cell_type": "code",
   "execution_count": 29,
   "metadata": {},
   "outputs": [
    {
     "data": {
      "image/png": "[encoded data removed]",
      "text/plain": [
       "<Figure size 432x288 with 1 Axes>"
      ]
     },
     "metadata": {
      "needs_background": "light"
     },
     "output_type": "display_data"
    }
   ],
   "source": [
    "import squarify\n",
    "\n",
    "squarify.plot(\n",
    "    sizes=df[range(5)],\n",
    "    label=[\"{} ({})\".format(k, int(v/1000)) for k in df.index for v in df],\n",
    "    color=['green','grey','blue','purple','lightblue'],\n",
    "    alpha=0.5,\n",
    ")\n",
    "plt.axis(\"off\")\n",
    "plt.title(\"Departamentos con más casos (unidades de miles)\", fontsize=20)\n",
    "plt.show()"
   ]
  },
  {
   "cell_type": "code",
   "execution_count": 30,
   "metadata": {},
   "outputs": [
    {
     "data": {
      "text/html": [
       "<div>\n",
       "<style scoped>\n",
       "    .dataframe tbody tr th:only-of-type {\n",
       "        vertical-align: middle;\n",
       "    }\n",
       "\n",
       "    .dataframe tbody tr th {\n",
       "        vertical-align: top;\n",
       "    }\n",
       "\n",
       "    .dataframe thead th {\n",
       "        text-align: right;\n",
       "    }\n",
       "</style>\n",
       "<table border=\"1\" class=\"dataframe\">\n",
       "  <thead>\n",
       "    <tr style=\"text-align: right;\">\n",
       "      <th></th>\n",
       "      <th>departamento</th>\n",
       "      <th>casos</th>\n",
       "      <th>totales</th>\n",
       "      <th>porcentaje</th>\n",
       "    </tr>\n",
       "  </thead>\n",
       "  <tbody>\n",
       "    <tr>\n",
       "      <th>29</th>\n",
       "      <td>SANTANDER</td>\n",
       "      <td>221838</td>\n",
       "      <td>3028981</td>\n",
       "      <td>7.323849</td>\n",
       "    </tr>\n",
       "    <tr>\n",
       "      <th>16</th>\n",
       "      <td>CUNDINAMARCA</td>\n",
       "      <td>260315</td>\n",
       "      <td>3028981</td>\n",
       "      <td>8.594144</td>\n",
       "    </tr>\n",
       "    <tr>\n",
       "      <th>33</th>\n",
       "      <td>VALLE</td>\n",
       "      <td>393111</td>\n",
       "      <td>3028981</td>\n",
       "      <td>12.978325</td>\n",
       "    </tr>\n",
       "    <tr>\n",
       "      <th>1</th>\n",
       "      <td>ANTIOQUIA</td>\n",
       "      <td>724626</td>\n",
       "      <td>3028981</td>\n",
       "      <td>23.923095</td>\n",
       "    </tr>\n",
       "    <tr>\n",
       "      <th>5</th>\n",
       "      <td>BOGOTA</td>\n",
       "      <td>1429091</td>\n",
       "      <td>3028981</td>\n",
       "      <td>47.180586</td>\n",
       "    </tr>\n",
       "  </tbody>\n",
       "</table>\n",
       "</div>"
      ],
      "text/plain": [
       "    departamento    casos  totales  porcentaje\n",
       "29     SANTANDER   221838  3028981    7.323849\n",
       "16  CUNDINAMARCA   260315  3028981    8.594144\n",
       "33         VALLE   393111  3028981   12.978325\n",
       "1      ANTIOQUIA   724626  3028981   23.923095\n",
       "5         BOGOTA  1429091  3028981   47.180586"
      ]
     },
     "execution_count": 30,
     "metadata": {},
     "output_type": "execute_result"
    }
   ],
   "source": [
    "#df = covid_df.filter(covid_df['Nombre departamento'].isin(list(lista)))\n",
    "df = covid_df.groupby(['Nombre departamento'])['ID de caso'].count().reset_index()\n",
    "df.columns = ['departamento','casos']\n",
    "df = df[df['departamento'].isin(list(lista))].sort_values(['casos'])\n",
    "df['totales'] = df['casos'].sum()\n",
    "df['porcentaje'] = df['casos']/df['totales'] * 100\n",
    "df"
   ]
  },
  {
   "cell_type": "code",
   "execution_count": 31,
   "metadata": {
    "scrolled": true
   },
   "outputs": [
    {
     "data": {
      "image/png": "[encoded data removed]",
      "text/plain": [
       "<Figure size 432x288 with 1 Axes>"
      ]
     },
     "metadata": {},
     "output_type": "display_data"
    }
   ],
   "source": [
    "df.index = df['departamento']\n",
    "df.plot.pie(y='porcentaje', title=\"Departamentos con mas casos\", legend=False, \n",
    "            autopct='%1.1f%%', explode=(0.1, 0.1, 0.1, 0.1, 0.1), \n",
    "            shadow=True, startangle=0)\n",
    "plt.show()"
   ]
  },
  {
   "cell_type": "code",
   "execution_count": 32,
   "metadata": {
    "scrolled": true
   },
   "outputs": [
    {
     "data": {
      "text/html": [
       "<div>\n",
       "<style scoped>\n",
       "    .dataframe tbody tr th:only-of-type {\n",
       "        vertical-align: middle;\n",
       "    }\n",
       "\n",
       "    .dataframe tbody tr th {\n",
       "        vertical-align: top;\n",
       "    }\n",
       "\n",
       "    .dataframe thead th {\n",
       "        text-align: right;\n",
       "    }\n",
       "</style>\n",
       "<table border=\"1\" class=\"dataframe\">\n",
       "  <thead>\n",
       "    <tr style=\"text-align: right;\">\n",
       "      <th></th>\n",
       "      <th>contagio</th>\n",
       "      <th>casos</th>\n",
       "      <th>totales</th>\n",
       "      <th>porcentaje</th>\n",
       "    </tr>\n",
       "  </thead>\n",
       "  <tbody>\n",
       "    <tr>\n",
       "      <th>2</th>\n",
       "      <td>IMPORTADO</td>\n",
       "      <td>3098</td>\n",
       "      <td>4852323</td>\n",
       "      <td>0.063846</td>\n",
       "    </tr>\n",
       "    <tr>\n",
       "      <th>3</th>\n",
       "      <td>RELACIONADO</td>\n",
       "      <td>711851</td>\n",
       "      <td>4852323</td>\n",
       "      <td>14.670314</td>\n",
       "    </tr>\n",
       "    <tr>\n",
       "      <th>0</th>\n",
       "      <td>COMUNITARIA</td>\n",
       "      <td>973760</td>\n",
       "      <td>4852323</td>\n",
       "      <td>20.067914</td>\n",
       "    </tr>\n",
       "    <tr>\n",
       "      <th>1</th>\n",
       "      <td>EN ESTUDIO</td>\n",
       "      <td>3163614</td>\n",
       "      <td>4852323</td>\n",
       "      <td>65.197927</td>\n",
       "    </tr>\n",
       "  </tbody>\n",
       "</table>\n",
       "</div>"
      ],
      "text/plain": [
       "      contagio    casos  totales  porcentaje\n",
       "2    IMPORTADO     3098  4852323    0.063846\n",
       "3  RELACIONADO   711851  4852323   14.670314\n",
       "0  COMUNITARIA   973760  4852323   20.067914\n",
       "1   EN ESTUDIO  3163614  4852323   65.197927"
      ]
     },
     "execution_count": 32,
     "metadata": {},
     "output_type": "execute_result"
    }
   ],
   "source": [
    "#df = covid_df.filter(covid_df['Nombre departamento'].isin(list(lista)))\n",
    "df = covid_df.groupby(['Tipo de contagio'])['ID de caso'].count().reset_index()\n",
    "df.columns = ['contagio','casos']\n",
    "df = df.sort_values(['casos'])\n",
    "df['totales'] = df['casos'].sum()\n",
    "df['porcentaje'] = df['casos']/df['totales'] * 100\n",
    "df"
   ]
  },
  {
   "cell_type": "code",
   "execution_count": 34,
   "metadata": {
    "scrolled": true
   },
   "outputs": [
    {
     "data": {
      "image/png": "[encoded data removed]",
      "text/plain": [
       "<Figure size 432x288 with 1 Axes>"
      ]
     },
     "metadata": {},
     "output_type": "display_data"
    }
   ],
   "source": [
    "df.index = df['contagio']\n",
    "df.plot.pie(y='porcentaje', title=\"Tipos de contagio\", legend=False, \n",
    "            autopct='%1.1f%%', explode=(0.1, 0.1, 0.1, 0.1), \n",
    "            shadow=True, startangle=0)\n",
    "plt.show()"
   ]
  },
  {
   "cell_type": "code",
   "execution_count": 43,
   "metadata": {},
   "outputs": [
    {
     "data": {
      "text/plain": [
       "<AxesSubplot:xlabel='y(t)', ylabel='y(t + 1)'>"
      ]
     },
     "execution_count": 43,
     "metadata": {},
     "output_type": "execute_result"
    },
    {
     "data": {
      "image/png": "[encoded data removed]",
      "text/plain": [
       "<Figure size 432x288 with 1 Axes>"
      ]
     },
     "metadata": {
      "needs_background": "light"
     },
     "output_type": "display_data"
    }
   ],
   "source": [
    "df = covid_df.groupby(['Nombre departamento'])['ID de caso'].count().reset_index()\n",
    "df.columns = ['departamento','casos']\n",
    "df = df.sort_values(['casos'])\n",
    "df.index = df['departamento']\n",
    "pd.plotting.lag_plot(df['casos'], lag=1)\n"
   ]
  },
  {
   "cell_type": "code",
   "execution_count": 44,
   "metadata": {},
   "outputs": [
    {
     "data": {
      "text/plain": [
       "pandas.core.frame.DataFrame"
      ]
     },
     "execution_count": 44,
     "metadata": {},
     "output_type": "execute_result"
    }
   ],
   "source": [
    "type(df)"
   ]
  },
  {
   "cell_type": "code",
   "execution_count": 42,
   "metadata": {},
   "outputs": [
    {
     "data": {
      "text/plain": [
       "<AxesSubplot:ylabel='Frequency'>"
      ]
     },
     "execution_count": 42,
     "metadata": {},
     "output_type": "execute_result"
    },
    {
     "data": {
      "image/png": "[encoded data removed]",
      "text/plain": [
       "<Figure size 432x288 with 1 Axes>"
      ]
     },
     "metadata": {
      "needs_background": "light"
     },
     "output_type": "display_data"
    }
   ],
   "source": [
    "df = covid_df['Edad'].value_counts()\n",
    "df.plot.hist()"
   ]
  }
 ],
 "metadata": {
  "kernelspec": {
   "display_name": "Python 3.11.0 64-bit",
   "language": "python",
   "name": "python3"
  },
  "language_info": {
   "codemirror_mode": {
    "name": "ipython",
    "version": 3
   },
   "file_extension": ".py",
   "mimetype": "text/x-python",
   "name": "python",
   "nbconvert_exporter": "python",
   "pygments_lexer": "ipython3",
   "version": "3.11.0"
  },
  "vscode": {
   "interpreter": {
    "hash": "e7370f93d1d0cde622a1f8e1c04877d8463912d04d973331ad4851f04de6915a"
   }
  }
 },
 "nbformat": 4,
 "nbformat_minor": 5
}
